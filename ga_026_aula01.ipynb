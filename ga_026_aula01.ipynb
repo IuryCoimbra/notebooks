{
  "cells": [
    {
      "cell_type": "markdown",
      "metadata": {
        "id": "pvPJsE8cTaG5",
        "colab_type": "text"
      },
      "source": [
        " # GA-026: Algoritmos"
      ]
    },
    {
      "cell_type": "markdown",
      "metadata": {
        "id": "l2pzhb0iuEq1",
        "colab_type": "text"
      },
      "source": [
        "># Introdução"
      ]
    },
    {
      "cell_type": "markdown",
      "metadata": {
        "id": "cBPNuvljuTBJ",
        "colab_type": "text"
      },
      "source": [
        ">>## Ordenação"
      ]
    },
    {
      "cell_type": "markdown",
      "metadata": {
        "id": "ZVxUN2riuj35",
        "colab_type": "text"
      },
      "source": [
        ">>>### Insertion Sort"
      ]
    },
    {
      "cell_type": "code",
      "metadata": {
        "id": "RNZ3nlkBSPcC",
        "colab_type": "code",
        "colab": {}
      },
      "source": [
        "# Function to do insertion sort \n",
        "def insertionSort(arr): \n",
        "  \n",
        "    # Traverse through 1 to len(arr) \n",
        "    for j in range(1, len(arr)): \n",
        "  \n",
        "        key = arr[j] \n",
        "  \n",
        "        # Move elements of arr[0..j-1], that are \n",
        "        # greater than key, to one position ahead \n",
        "        # of their current position \n",
        "        i = j-1\n",
        "        while i >= 0 and key < arr[i] : \n",
        "                arr[i + 1] = arr[i] \n",
        "                i -= 1\n",
        "        arr[i + 1] = key "
      ],
      "execution_count": 1,
      "outputs": []
    },
    {
      "cell_type": "code",
      "metadata": {
        "id": "PHk6J_D-m-eJ",
        "colab_type": "code",
        "colab": {},
        "outputId": "4e2ce0bd-bfc0-4af6-b299-357486af8902",
        "tags": []
      },
      "source": [
        "# Driver code to test above \n",
        "arr = [12, 11, 13, 5, 6] \n",
        "insertionSort(arr) \n",
        "for i in range(len(arr)): \n",
        "    print (\"% d\" % arr[i]) "
      ],
      "execution_count": 3,
      "outputs": [
        {
          "output_type": "stream",
          "name": "stdout",
          "text": "5\n 6\n 11\n 12\n 13\n"
        }
      ]
    },
    {
      "cell_type": "code",
      "execution_count": null,
      "metadata": {},
      "outputs": [],
      "source": []
    }
  ],
  "metadata": {
    "colab": {
      "name": "ga-026-aula01.ipynb",
      "provenance": [],
      "toc_visible": true,
      "include_colab_link": true
    },
    "kernelspec": {
      "name": "python3",
      "display_name": "Python 3"
    }
  },
  "nbformat": 4,
  "nbformat_minor": 0
}