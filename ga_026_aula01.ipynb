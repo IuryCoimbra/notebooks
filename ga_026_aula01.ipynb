{
  "nbformat": 4,
  "nbformat_minor": 0,
  "metadata": {
    "colab": {
      "name": "ga-026-aula01.ipynb",
      "provenance": [],
      "toc_visible": true,
      "authorship_tag": "ABX9TyOia48GnQsUp7u+JdrF7c+9",
      "include_colab_link": true
    },
    "kernelspec": {
      "name": "python3",
      "display_name": "Python 3"
    }
  },
  "cells": [
    {
      "cell_type": "markdown",
      "metadata": {
        "id": "view-in-github",
        "colab_type": "text"
      },
      "source": [
        "<a href=\"https://colab.research.google.com/github/robertopsouto/notebooks/blob/master/ga_026_aula01.ipynb\" target=\"_parent\"><img src=\"https://colab.research.google.com/assets/colab-badge.svg\" alt=\"Open In Colab\"/></a>"
      ]
    },
    {
      "cell_type": "markdown",
      "metadata": {
        "id": "pvPJsE8cTaG5",
        "colab_type": "text"
      },
      "source": [
        "\n",
        "\n",
        "> # GA-026: Algoritmos\n",
        "\n",
        "\n"
      ]
    },
    {
      "cell_type": "markdown",
      "metadata": {
        "id": "l2pzhb0iuEq1",
        "colab_type": "text"
      },
      "source": [
        "##Introdução"
      ]
    },
    {
      "cell_type": "markdown",
      "metadata": {
        "id": "cBPNuvljuTBJ",
        "colab_type": "text"
      },
      "source": [
        "##Ordenação"
      ]
    },
    {
      "cell_type": "markdown",
      "metadata": {
        "id": "ZVxUN2riuj35",
        "colab_type": "text"
      },
      "source": [
        "###Insertion Sort"
      ]
    },
    {
      "cell_type": "code",
      "metadata": {
        "id": "RNZ3nlkBSPcC",
        "colab_type": "code",
        "outputId": "9cbca056-2ef3-4432-be67-32bbd52c5c5e",
        "colab": {
          "base_uri": "https://localhost:8080/",
          "height": 104
        }
      },
      "source": [
        "# Function to do insertion sort \n",
        "def insertionSort(arr): \n",
        "  \n",
        "    # Traverse through 1 to len(arr) \n",
        "    for i in range(1, len(arr)): \n",
        "  \n",
        "        key = arr[i] \n",
        "  \n",
        "        # Move elements of arr[0..i-1], that are \n",
        "        # greater than key, to one position ahead \n",
        "        # of their current position \n",
        "        j = i-1\n",
        "        while j >= 0 and key < arr[j] : \n",
        "                arr[j + 1] = arr[j] \n",
        "                j -= 1\n",
        "        arr[j + 1] = key "
      ],
      "execution_count": 0,
      "outputs": [
        {
          "output_type": "stream",
          "text": [
            " 5\n",
            " 6\n",
            " 11\n",
            " 12\n",
            " 13\n"
          ],
          "name": "stdout"
        }
      ]
    }
  ]
}