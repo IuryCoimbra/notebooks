{
  "cells": [
    {
      "cell_type": "markdown",
      "metadata": {
        "id": "pvPJsE8cTaG5",
        "colab_type": "text"
      },
      "source": [
        " # GA-026: Algoritmos"
      ]
    },
    {
      "cell_type": "markdown",
      "metadata": {
        "id": "l2pzhb0iuEq1",
        "colab_type": "text"
      },
      "source": [
        "# Introdução"
      ]
    },
    {
      "cell_type": "markdown",
      "metadata": {
        "id": "cBPNuvljuTBJ",
        "colab_type": "text"
      },
      "source": [
        "## Ordenação"
      ]
    },
    {
      "cell_type": "markdown",
      "metadata": {
        "id": "ZVxUN2riuj35",
        "colab_type": "text"
      },
      "source": [
        "### Insertion Sort"
      ]
    },
    {
      "cell_type": "code",
      "metadata": {
        "id": "RNZ3nlkBSPcC",
        "colab_type": "code",
        "colab": {}
      },
      "source": [
        "# Function to do insertion sort \n",
        "def insertionSort(arr): \n",
        "  \n",
        "    # Traverse through 1 to len(arr) \n",
        "    for i in range(1, len(arr)): \n",
        "  \n",
        "        key = arr[i] \n",
        "  \n",
        "        # Move elements of arr[0..i-1], that are \n",
        "        # greater than key, to one position ahead \n",
        "        # of their current position \n",
        "        j = i-1\n",
        "        while j >= 0 and key < arr[j] : \n",
        "                arr[j + 1] = arr[j] \n",
        "                j -= 1\n",
        "        arr[j + 1] = key "
      ],
      "execution_count": 0,
      "outputs": []
    },
    {
      "cell_type": "code",
      "metadata": {
        "id": "PHk6J_D-m-eJ",
        "colab_type": "code",
        "colab": {},
        "outputId": "4e2ce0bd-bfc0-4af6-b299-357486af8902"
      },
      "source": [
        "# Driver code to test above \n",
        "arr = [12, 11, 13, 5, 6] \n",
        "insertionSort(arr) \n",
        "for i in range(len(arr)): \n",
        "    print (\"% d\" % arr[i]) "
      ],
      "execution_count": 0,
      "outputs": [
        {
          "output_type": "stream",
          "text": [
            "5\n",
            " 6\n",
            " 11\n",
            " 12\n",
            " 13\n"
          ],
          "name": "stdout"
        }
      ]
    },
    {
      "cell_type": "code",
      "metadata": {
        "id": "BlkNaeoXm-eM",
        "colab_type": "code",
        "colab": {}
      },
      "source": [
        "class PDF(object):\n",
        "  def __init__(self, pdf, size=(200,200)):\n",
        "    self.pdf = pdf\n",
        "    self.size = size\n",
        "\n",
        "  def _repr_html_(self):\n",
        "    return '<iframe src={0} width={1[0]} height={1[1]}></iframe>'.format(self.pdf, self.size)\n",
        "\n",
        "  def _repr_latex_(self):\n",
        "    return r'\\includegraphics[width=1.0\\textwidth]{{{0}}}'.format(self.pdf)"
      ],
      "execution_count": 0,
      "outputs": []
    },
    {
      "cell_type": "code",
      "metadata": {
        "id": "XsvJ8ayaz8kb",
        "colab_type": "code",
        "colab": {
          "base_uri": "https://localhost:8080/",
          "height": 275
        },
        "outputId": "06efb61b-d6e0-4158-90e6-75bcd4608a7c"
      },
      "source": [
        "PDF('slides.pdf',size=(300,250))"
      ],
      "execution_count": 4,
      "outputs": [
        {
          "output_type": "execute_result",
          "data": {
            "text/latex": "\\includegraphics[width=1.0\\textwidth]{slides.pdf}",
            "text/html": [
              "<iframe src=slides.pdf width=300 height=250></iframe>"
            ],
            "text/plain": [
              "<__main__.PDF at 0x7f497776f320>"
            ]
          },
          "metadata": {
            "tags": []
          },
          "execution_count": 4
        }
      ]
    }
  ],
  "metadata": {
    "colab": {
      "name": "ga-026-aula01.ipynb",
      "provenance": [],
      "toc_visible": true,
      "include_colab_link": true
    },
    "kernelspec": {
      "name": "python3",
      "display_name": "Python 3"
    }
  },
  "nbformat": 4,
  "nbformat_minor": 0
}