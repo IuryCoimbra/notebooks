{
  "cells": [
    {
      "cell_type": "markdown",
      "metadata": {
        "id": "pvPJsE8cTaG5",
        "colab_type": "text"
      },
      "source": [
        " # GA-026: Algoritmos"
      ]
    },
    {
      "cell_type": "markdown",
      "metadata": {
        "id": "l2pzhb0iuEq1",
        "colab_type": "text"
      },
      "source": [
        "># Introdução"
      ]
    },
    {
      "cell_type": "markdown",
      "metadata": {
        "id": "cBPNuvljuTBJ",
        "colab_type": "text"
      },
      "source": [
        ">>## Ordenação"
      ]
    },
    {
      "cell_type": "markdown",
      "metadata": {
        "id": "ZVxUN2riuj35",
        "colab_type": "text"
      },
      "source": [
        ">>>### Insertion Sort"
      ]
    },
    {
      "cell_type": "code",
      "execution_count": null,
      "metadata": {
        "tags": []
      },
      "outputs": [],
      "source": [
        "!python -m pip install -U matplotlib"
      ]
    },
    {
      "cell_type": "code",
      "metadata": {
        "id": "RNZ3nlkBSPcC",
        "colab_type": "code",
        "colab": {}
      },
      "source": [
        "# Function to do insertion sort \n",
        "def insertionSort(arr): \n",
        "  \n",
        "    # Traverse through 1 to len(arr) \n",
        "    for j in range(1, len(arr)): \n",
        "  \n",
        "        key = arr[j] \n",
        "  \n",
        "        # Move elements of arr[0..j-1], that are \n",
        "        # greater than key, to one position ahead \n",
        "        # of their current position \n",
        "        i = j-1\n",
        "        while i >= 0 and key < arr[i] : \n",
        "                arr[i + 1] = arr[i] \n",
        "                i -= 1\n",
        "        arr[i + 1] = key "
      ],
      "execution_count": null,
      "outputs": []
    },
    {
      "cell_type": "code",
      "execution_count": null,
      "metadata": {
        "tags": []
      },
      "outputs": [],
      "source": [
        "import random\n",
        "#Generate 5 random numbers between 1 and 30\n",
        "randomlist = random.sample(range(1, 30), 5)\n",
        "print(randomlist) "
      ]
    },
    {
      "cell_type": "code",
      "execution_count": null,
      "metadata": {},
      "outputs": [],
      "source": [
        "import matplotlib.pyplot as plt\n",
        "plt.bar(list(range(1,6)), randomlist)"
      ]
    },
    {
      "cell_type": "code",
      "execution_count": null,
      "metadata": {
        "tags": []
      },
      "outputs": [],
      "source": [
        "# Driver code to test above  \n",
        "insertionSort(randomlist)\n",
        "print(randomlist)"
      ]
    },
    {
      "cell_type": "code",
      "execution_count": null,
      "metadata": {
        "tags": []
      },
      "outputs": [],
      "source": [
        "import matplotlib.pyplot as plt\n",
        "plt.bar(list(range(1,6)), randomlist)"
      ]
    },
    {
      "cell_type": "code",
      "execution_count": null,
      "metadata": {},
      "outputs": [],
      "source": []
    }
  ],
  "metadata": {
    "colab": {
      "name": "ga-026-aula01.ipynb",
      "provenance": [],
      "toc_visible": true,
      "include_colab_link": true
    },
    "kernelspec": {
      "name": "python3",
      "display_name": "Python 3"
    }
  },
  "nbformat": 4,
  "nbformat_minor": 0
}