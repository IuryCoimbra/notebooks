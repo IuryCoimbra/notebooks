{
 "cells": [
  {
   "cell_type": "markdown",
   "metadata": {},
   "source": [
    "# GA-026 Algoritmos"
   ]
  },
  {
   "cell_type": "markdown",
   "metadata": {},
   "source": [
    "## Torre de Hanoi"
   ]
  },
  {
   "cell_type": "code",
   "execution_count": null,
   "metadata": {},
   "outputs": [],
   "source": [
    "#-----------------------------------------------------------------------\n",
    "# towersofhanoi.py\n",
    "#-----------------------------------------------------------------------\n",
    "\n",
    "import sys\n",
    "import stdio\n"
   ]
  },
  {
   "cell_type": "code",
   "execution_count": null,
   "metadata": {},
   "outputs": [],
   "source": [
    "#-----------------------------------------------------------------------\n",
    "\n",
    "# Write to standard output instructions to move n Towers of Hanoi\n",
    "# disks to the left (if parameter left is True) or to the right (if\n",
    "# parameter left is False).\n",
    "\n",
    "def moves(n, left):\n",
    "    if n == 0:\n",
    "        return\n",
    "    moves(n-1, not left)\n",
    "    if left:\n",
    "        stdio.writeln(str(n) + ' left')\n",
    "    else:\n",
    "        stdio.writeln(str(n) + ' right')\n",
    "    moves(n-1, not left)\n"
   ]
  },
  {
   "cell_type": "code",
   "execution_count": null,
   "metadata": {
    "tags": []
   },
   "outputs": [],
   "source": [
    "moves(4, True)"
   ]
  },
  {
   "cell_type": "code",
   "execution_count": null,
   "metadata": {},
   "outputs": [],
   "source": []
  }
 ],
 "metadata": {
  "language_info": {
   "codemirror_mode": {
    "name": "ipython",
    "version": 3
   },
   "file_extension": ".py",
   "mimetype": "text/x-python",
   "name": "python",
   "nbconvert_exporter": "python",
   "pygments_lexer": "ipython3",
   "version": "3.7.7-final"
  },
  "orig_nbformat": 2,
  "kernelspec": {
   "name": "python36964bite8f75ea5a19b4248a7d4919dacf1e4af",
   "display_name": "Python 3.6.9 64-bit"
  }
 },
 "nbformat": 4,
 "nbformat_minor": 2
}