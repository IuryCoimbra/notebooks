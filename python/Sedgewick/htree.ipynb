{
 "cells": [
  {
   "cell_type": "code",
   "execution_count": null,
   "metadata": {
    "tags": []
   },
   "outputs": [],
   "source": [
    "!python -m pip install -U pygame --user"
   ]
  },
  {
   "cell_type": "code",
   "execution_count": null,
   "metadata": {
    "tags": []
   },
   "outputs": [],
   "source": [
    "!wget https://introcs.cs.princeton.edu/python/code/dist/introcs-1.0.zip"
   ]
  },
  {
   "cell_type": "code",
   "execution_count": null,
   "metadata": {
    "tags": []
   },
   "outputs": [],
   "source": [
    "!unzip introcs-1.0.zip"
   ]
  },
  {
   "cell_type": "code",
   "execution_count": null,
   "metadata": {
    "tags": []
   },
   "outputs": [],
   "source": [
    "cd introcs-1.0/"
   ]
  },
  {
   "cell_type": "code",
   "execution_count": null,
   "metadata": {
    "tags": []
   },
   "outputs": [],
   "source": [
    "!python setup.py install --user"
   ]
  },
  {
   "cell_type": "code",
   "execution_count": null,
   "metadata": {},
   "outputs": [],
   "source": [
    "#-----------------------------------------------------------------------\n",
    "# htree.py\n",
    "#-----------------------------------------------------------------------\n",
    "\n",
    "import stddraw\n",
    "import sys\n",
    "\n",
    "#-----------------------------------------------------------------------\n",
    "\n",
    "# Draw to standard draw a level n H-tree centered at (x. y) with lines\n",
    "# of length lineLength.\n",
    "\n",
    "def draw(n, lineLength, x, y):\n",
    "    if n == 0:\n",
    "        return\n",
    "    x0 = x - lineLength/2\n",
    "    x1 = x + lineLength/2\n",
    "    y0 = y - lineLength/2\n",
    "    y1 = y + lineLength/2\n",
    "\n",
    "    stddraw.line(x0, y, x1, y)\n",
    "    stddraw.line(x0, y0, x0, y1)\n",
    "    stddraw.line(x1, y0, x1, y1)\n",
    "\n",
    "    draw(n-1, lineLength/2, x0, y0)\n",
    "    draw(n-1, lineLength/2, x0, y1)\n",
    "    draw(n-1, lineLength/2, x1, y0)\n",
    "    draw(n-1, lineLength/2, x1, y1)\n",
    "\n",
    "#-----------------------------------------------------------------------\n"
   ]
  },
  {
   "cell_type": "code",
   "execution_count": null,
   "metadata": {},
   "outputs": [],
   "source": [
    "stddraw.setPenRadius(0.0)"
   ]
  },
  {
   "cell_type": "code",
   "execution_count": null,
   "metadata": {},
   "outputs": [],
   "source": [
    "draw(3, .5, .5, .5)"
   ]
  },
  {
   "cell_type": "code",
   "execution_count": null,
   "metadata": {},
   "outputs": [],
   "source": [
    "stddraw.show()"
   ]
  },
  {
   "cell_type": "code",
   "execution_count": null,
   "metadata": {},
   "outputs": [],
   "source": []
  }
 ],
 "metadata": {
  "language_info": {
   "codemirror_mode": {
    "name": "ipython",
    "version": 3
   },
   "file_extension": ".py",
   "mimetype": "text/x-python",
   "name": "python",
   "nbconvert_exporter": "python",
   "pygments_lexer": "ipython3",
   "version": "3.6.9-final"
  },
  "orig_nbformat": 2,
  "kernelspec": {
   "name": "python36964bite8f75ea5a19b4248a7d4919dacf1e4af",
   "display_name": "Python 3.6.9 64-bit"
  }
 },
 "nbformat": 4,
 "nbformat_minor": 2
}