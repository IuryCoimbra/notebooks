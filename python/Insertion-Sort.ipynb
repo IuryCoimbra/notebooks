{
  "cells": [
    {
      "cell_type": "markdown",
      "metadata": {
        "id": "pvPJsE8cTaG5",
        "colab_type": "text"
      },
      "source": [
        " # GA-026: Algoritmos"
      ]
    },
    {
      "cell_type": "markdown",
      "metadata": {
        "id": "ZVxUN2riuj35",
        "colab_type": "text"
      },
      "source": [
        "# Insertion Sort"
      ]
    },
    {
      "cell_type": "code",
      "execution_count": null,
      "metadata": {
        "tags": []
      },
      "outputs": [],
      "source": [
        "#!python -m pip install -U matplotlib  #Necessário descomentar quando estiver no Binder."
      ]
    },
    {
      "cell_type": "code",
      "metadata": {
        "id": "RNZ3nlkBSPcC",
        "colab_type": "code",
        "colab": {}
      },
      "source": [
        "# Function to do insertion sort \n",
        "# Baseado no código original de https://www.geeksforgeeks.org/insertion-sort/\n",
        "def insertionSort(arr): \n",
        "  \n",
        "    # Traverse through 1 to len(arr) \n",
        "    for j in range(1, len(arr)): \n",
        "  \n",
        "        key = arr[j] \n",
        "  \n",
        "        # Move elements of arr[0..j-1], that are \n",
        "\n",
        "        # greater than key, to one position ahead \n",
        "        # of their current position \n",
        "        i = j-1\n",
        "        while i >= 0 and key < arr[i] : \n",
        "                arr[i + 1] = arr[i] \n",
        "                i -= 1\n",
        "        arr[i + 1] = key "
      ],
      "execution_count": null,
      "outputs": []
    },
    {
      "cell_type": "code",
      "execution_count": null,
      "metadata": {
        "tags": []
      },
      "outputs": [],
      "source": [
        "import random\n",
        "#Generate n random numbers between 1 and p\n",
        "p=100\n",
        "n=20\n",
        "randomlist = random.sample(range(1, p), n)\n",
        "print(randomlist) "
      ]
    },
    {
      "cell_type": "code",
      "execution_count": null,
      "metadata": {},
      "outputs": [],
      "source": [
        "import matplotlib.pyplot as plt\n",
        "randomliststr = []\n",
        "for j in range(0,n):\n",
        "   value_str = str(randomlist[j])\n",
        "   randomliststr.append(value_str)\n",
        "\n",
        "plt.bar(randomliststr,randomlist)\n",
        "plt.xticks([])\n",
        "plt.yticks([])\n",
        "plt.show()"
      ]
    },
    {
      "cell_type": "code",
      "execution_count": null,
      "metadata": {
        "tags": []
      },
      "outputs": [],
      "source": [
        "# Driver code to test above  \n",
        "insertionSort(randomlist)\n",
        "print(randomlist)"
      ]
    },
    {
      "cell_type": "code",
      "execution_count": null,
      "metadata": {
        "tags": []
      },
      "outputs": [],
      "source": [
        "import matplotlib.pyplot as plt\n",
        "randomliststr = []\n",
        "for j in range(0,n):\n",
        "   value_str = str(randomlist[j])\n",
        "   randomliststr.append(value_str)\n",
        "\n",
        "plt.bar(randomliststr,randomlist)\n",
        "plt.xticks([])\n",
        "plt.yticks([])\n",
        "plt.show()"
      ]
    },
    {
      "cell_type": "code",
      "execution_count": null,
      "metadata": {},
      "outputs": [],
      "source": []
    }
  ],
  "metadata": {
    "colab": {
      "name": "Insertion-Sort.ipynb",
      "provenance": [],
      "toc_visible": true,
      "include_colab_link": true
    },
    "kernelspec": {
      "name": "python3",
      "display_name": "Python 3"
    }
  },
  "nbformat": 4,
  "nbformat_minor": 0
}