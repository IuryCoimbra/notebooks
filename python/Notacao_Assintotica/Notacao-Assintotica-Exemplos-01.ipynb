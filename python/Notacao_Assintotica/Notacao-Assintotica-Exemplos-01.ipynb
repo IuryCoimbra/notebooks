{
 "cells": [
  {
   "cell_type": "code",
   "execution_count": null,
   "metadata": {},
   "outputs": [],
   "source": [
    "from sympy import *\n",
    "from sympy.plotting import plot\n",
    "n = symbols('n')"
   ]
  },
  {
   "cell_type": "code",
   "execution_count": null,
   "metadata": {},
   "outputs": [],
   "source": [
    "f = pow(2,n)\n",
    "g = n*n\n",
    "\n",
    "p = plot(f, g, xlim=[0,14],ylim=[0,150], show=False, legend = True)\n",
    "#change the color of p2\n",
    "p[0].line_color = 'b'\n",
    "p[0].label = '$2^n$'\n",
    "p[1].line_color = 'r'\n",
    "p[1].label = '$n^2$'\n",
    "p.show()"
   ]
  },
  {
   "cell_type": "code",
   "execution_count": null,
   "metadata": {},
   "outputs": [],
   "source": [
    "f = 100*n  + log(n,2)\n",
    "g = n + log(n,2)*log(n,2)\n",
    "\n",
    "p = plot(f, g, xlim=[0,10], ylim=[0,150], show=False, legend = True)\n",
    "#change the color of p2\n",
    "p[0].line_color = 'b'\n",
    "p[0].label = '$100 n+\\lg n$'\n",
    "p[1].line_color = 'r'\n",
    "p[1].label = '$n+(\\lg n)^{2}$'\n",
    "p.show()"
   ]
  }
 ],
 "metadata": {
  "kernelspec": {
   "display_name": "Python 3",
   "language": "python",
   "name": "python3"
  },
  "language_info": {
   "codemirror_mode": {
    "name": "ipython",
    "version": 3
   },
   "file_extension": ".py",
   "mimetype": "text/x-python",
   "name": "python",
   "nbconvert_exporter": "python",
   "pygments_lexer": "ipython3",
   "version": "3.7.7-final"
  }
 },
 "nbformat": 4,
 "nbformat_minor": 2
}