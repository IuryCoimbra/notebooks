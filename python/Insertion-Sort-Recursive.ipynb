{
 "cells": [
  {
   "cell_type": "markdown",
   "metadata": {
    "colab_type": "text",
    "id": "pvPJsE8cTaG5"
   },
   "source": [
    " # GA-026: Algoritmos"
   ]
  },
  {
   "cell_type": "markdown",
   "metadata": {
    "colab_type": "text",
    "id": "ZVxUN2riuj35"
   },
   "source": [
    "## Recursive Insertion Sort"
   ]
  },
  {
   "cell_type": "code",
   "execution_count": null,
   "metadata": {
    "colab": {},
    "colab_type": "code",
    "id": "RNZ3nlkBSPcC"
   },
   "outputs": [],
   "source": [
    "# Recursive Python program for insertion sort \n",
    "# Recursive function to sort an array using insertion sort \n",
    "  \n",
    "def insertionSortRecursive(arr,n): \n",
    "    # base case \n",
    "    if n<=1: \n",
    "        return\n",
    "      \n",
    "    # Sort first n-1 elements \n",
    "    insertionSortRecursive(arr,n-1) \n",
    "    '''Insert last element at its correct position \n",
    "        in sorted array.'''\n",
    "    last = arr[n-1] \n",
    "    j = n-2\n",
    "      \n",
    "      # Move elements of arr[0..i-1], that are \n",
    "      # greater than key, to one position ahead \n",
    "      # of their current position  \n",
    "    while (j>=0 and arr[j]>last): \n",
    "        arr[j+1] = arr[j] \n",
    "        j = j-1\n",
    "  \n",
    "    arr[j+1]=last "
   ]
  },
  {
   "cell_type": "code",
   "execution_count": null,
   "metadata": {
    "tags": []
   },
   "outputs": [],
   "source": [
    "import random\n",
    "#Generate n random numbers between 1 and p\n",
    "p=100\n",
    "n=20\n",
    "randomlist = random.sample(range(1, p), 3000)\n",
    "print(randomlist) "
   ]
  },
  {
   "cell_type": "code",
   "execution_count": null,
   "metadata": {
    "scrolled": true,
    "tags": []
   },
   "outputs": [],
   "source": [
    "import matplotlib.pyplot as plt\n",
    "randomliststr = []\n",
    "for j in range(0,n):\n",
    "   value_str = str(randomlist[j])\n",
    "   randomliststr.append(value_str)\n",
    "\n",
    "plt.bar(randomliststr,randomlist)\n",
    "plt.xticks([])\n",
    "plt.yticks([])\n",
    "plt.show()"
   ]
  },
  {
   "cell_type": "code",
   "execution_count": null,
   "metadata": {
    "tags": []
   },
   "outputs": [],
   "source": [
    "# Driver code to test above  \n",
    "insertionSortRecursive(randomlist)\n",
    "print(randomlist)"
   ]
  },
  {
   "cell_type": "code",
   "execution_count": null,
   "metadata": {
    "tags": []
   },
   "outputs": [],
   "source": [
    "import matplotlib.pyplot as plt\n",
    "randomliststr = []\n",
    "for j in range(0,n):\n",
    "   value_str = str(randomlist[j])\n",
    "   randomliststr.append(value_str)\n",
    "\n",
    "plt.bar(randomliststr,randomlist)\n",
    "plt.xticks([])\n",
    "plt.yticks([])\n",
    "plt.show()"
   ]
  },
  {
   "cell_type": "markdown",
   "metadata": {},
   "source": [
    "## Medindo tempo de execução"
   ]
  },
  {
   "cell_type": "code",
   "execution_count": null,
   "metadata": {},
   "outputs": [],
   "source": [
    "import random\n",
    "#Generate random numbers between 1 and p\n",
    "p=10\n",
    "randomlist = random.sample(range(1, p),p-1)"
   ]
  },
  {
   "cell_type": "code",
   "execution_count": null,
   "metadata": {
    "tags": []
   },
   "outputs": [],
   "source": [
    "# Driver code to test above  \n",
    "import time\n",
    "start_time = time.time()\n",
    "\n",
    "insertionSort(randomlist)\n",
    "\n",
    "print(\"--- %s seconds ---\" % (time.time() - start_time))"
   ]
  },
  {
   "cell_type": "code",
   "execution_count": null,
   "metadata": {
    "tags": []
   },
   "outputs": [],
   "source": [
    "import matplotlib.pyplot as plt\n",
    "import random\n",
    "import time\n",
    "p = [1000, 2000, 3000, 4000, 5000, 6000, 7000, 8000, 9000, 10000]\n",
    "t = []\n",
    "for i in p:\n",
    "    print(i)\n",
    "    randomlist = random.sample(range(1, 20000),i)\n",
    "    start_time = time.time()\n",
    "    insertionSortRecursive(randomlist,i)\n",
    "    end_time = time.time() - start_time\n",
    "    t.append(end_time)\n",
    "plt.plot(p,t,'ro')\n",
    "plt.show()"
   ]
  },
  {
   "cell_type": "code",
   "execution_count": null,
   "metadata": {
    "tags": []
   },
   "outputs": [],
   "source": [
    "import matplotlib.pyplot as plt\n",
    "import random\n",
    "import time\n",
    "p = [100, 200, 300, 400, 500, 600, 700, 800, 900, 1000]\n",
    "t = []\n",
    "for i in p:\n",
    "    print(i)\n",
    "    randomlist = random.sample(range(1, 20000),i)\n",
    "    start_time = time.time()\n",
    "    insertionSortRecursive(randomlist,i)\n",
    "    end_time = time.time() - start_time\n",
    "    t.append(end_time)\n",
    "plt.plot(p,t,'ro')\n",
    "plt.show()"
   ]
  },
  {
   "cell_type": "code",
   "execution_count": null,
   "metadata": {
    "tags": []
   },
   "outputs": [],
   "source": [
    "import matplotlib.pyplot as plt\n",
    "import random\n",
    "import time\n",
    "p = [100, 200, 300, 400, 500, 600, 700, 800, 900, 1000]\n",
    "t = []\n",
    "for i in p:\n",
    "    print(i)\n",
    "    randomlist = random.sample(range(1, 20000),i)\n",
    "    sum_time = 0.0\n",
    "    for j in range(0, 10000):\n",
    "       start_time = time.time()\n",
    "       insertionSortRecursive(randomlist,i)\n",
    "       end_time = time.time() - start_time\n",
    "       sum_time = sum_time + end_time\n",
    "    t.append(sum_time/10000)\n",
    "plt.plot(p,t,'ro')\n",
    "plt.show()"
   ]
  },
  {
   "cell_type": "code",
   "execution_count": null,
   "metadata": {
    "tags": []
   },
   "outputs": [],
   "source": [
    "import numpy as np \n",
    "matrix = np.array(t) \n",
    "t_tr=matrix.reshape(matrix.size,1)\n",
    "print(t_tr) "
   ]
  }
 ],
 "metadata": {
  "colab": {
   "include_colab_link": true,
   "name": "Insertion-Sort.ipynb",
   "provenance": [],
   "toc_visible": true
  },
  "kernelspec": {
   "display_name": "Python 3",
   "language": "python",
   "name": "python3"
  },
  "language_info": {
   "codemirror_mode": {
    "name": "ipython",
    "version": 3
   },
   "file_extension": ".py",
   "mimetype": "text/x-python",
   "name": "python",
   "nbconvert_exporter": "python",
   "pygments_lexer": "ipython3",
   "version": "3.7.7-final"
  }
 },
 "nbformat": 4,
 "nbformat_minor": 1
}