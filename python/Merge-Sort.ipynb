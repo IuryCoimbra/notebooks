{
  "cells": [
    {
      "cell_type": "markdown",
      "metadata": {
        "id": "pvPJsE8cTaG5",
        "colab_type": "text"
      },
      "source": [
        " # GA-026: Algoritmos"
      ]
    },
    {
      "cell_type": "markdown",
      "metadata": {
        "id": "ZVxUN2riuj35",
        "colab_type": "text"
      },
      "source": [
        "# Merge Sort"
      ]
    },
    {
      "cell_type": "code",
      "execution_count": null,
      "metadata": {
        "tags": []
      },
      "outputs": [],
      "source": [
        "# Necessário descomentar quando estiver no Binder.\n",
        "# Quando estiver no Colab não é necessário descomentar.\n",
        "\n",
        "#!python -m pip install -U matplotlib "
      ]
    },
    {
      "cell_type": "code",
      "metadata": {
        "id": "RNZ3nlkBSPcC",
        "colab_type": "code",
        "colab": {}
      },
      "source": [
        "# Function to do insertion sort \n",
        "# Baseado no código original de https://www.geeksforgeeks.org/merge-sort/\n",
        "def mergeSort(arr): \n",
        "    if len(arr) >1: \n",
        "        mid = len(arr)//2 # Finding the mid of the array \n",
        "        L = arr[:mid] # Dividing the array elements  \n",
        "        R = arr[mid:] # into 2 halves \n",
        "  \n",
        "        mergeSort(L) # Sorting the first half \n",
        "        mergeSort(R) # Sorting the second half \n",
        "  \n",
        "        i = j = k = 0\n",
        "          \n",
        "        # Copy data to temp arrays L[] and R[] \n",
        "        while i < len(L) and j < len(R): \n",
        "            if L[i] < R[j]: \n",
        "                arr[k] = L[i] \n",
        "                i+= 1\n",
        "            else: \n",
        "                arr[k] = R[j] \n",
        "                j+= 1\n",
        "            k+= 1\n",
        "          \n",
        "        # Checking if any element was left \n",
        "        while i < len(L): \n",
        "            arr[k] = L[i] \n",
        "            i+= 1\n",
        "            k+= 1\n",
        "          \n",
        "        while j < len(R): \n",
        "            arr[k] = R[j] \n",
        "            j+= 1\n",
        "            k+= 1"
      ],
      "execution_count": null,
      "outputs": []
    },
    {
      "cell_type": "code",
      "execution_count": null,
      "metadata": {
        "tags": []
      },
      "outputs": [],
      "source": [
        "import random\n",
        "#Generate n random numbers between 1 and p\n",
        "p=100\n",
        "n=20\n",
        "randomlist = random.sample(range(1, p), n)\n",
        "print(randomlist) "
      ]
    },
    {
      "cell_type": "code",
      "execution_count": null,
      "metadata": {
        "tags": []
      },
      "outputs": [],
      "source": [
        "import matplotlib.pyplot as plt\n",
        "randomliststr = []\n",
        "for j in range(0,n):\n",
        "   value_str = str(randomlist[j])\n",
        "   randomliststr.append(value_str)\n",
        "\n",
        "plt.bar(randomliststr,randomlist)\n",
        "plt.xticks([])\n",
        "plt.yticks([])\n",
        "plt.show()"
      ]
    },
    {
      "cell_type": "code",
      "execution_count": null,
      "metadata": {
        "tags": []
      },
      "outputs": [],
      "source": [
        "# Driver code to test above  \n",
        "mergeSort(randomlist)\n",
        "print(randomlist)"
      ]
    },
    {
      "cell_type": "code",
      "execution_count": null,
      "metadata": {
        "tags": []
      },
      "outputs": [],
      "source": [
        "import matplotlib.pyplot as plt\n",
        "randomliststr = []\n",
        "for j in range(0,n):\n",
        "   value_str = str(randomlist[j])\n",
        "   randomliststr.append(value_str)\n",
        "\n",
        "plt.bar(randomliststr,randomlist)\n",
        "plt.xticks([])\n",
        "plt.yticks([])\n",
        "plt.show()"
      ]
    },
    {
      "cell_type": "markdown",
      "metadata": {},
      "source": [
        "## Medindo tempo de execução"
      ]
    },
    {
      "cell_type": "code",
      "execution_count": null,
      "metadata": {},
      "outputs": [],
      "source": [
        "import random\n",
        "#Generate random numbers between 1 and p\n",
        "p=10\n",
        "randomlist = random.sample(range(1, p),p-1)"
      ]
    },
    {
      "cell_type": "code",
      "execution_count": null,
      "metadata": {
        "tags": []
      },
      "outputs": [],
      "source": [
        "# Driver code to test above  \n",
        "import time\n",
        "start_time = time.time()\n",
        "\n",
        "mergeSort(randomlist)\n",
        "\n",
        "print(\"--- %s seconds ---\" % (time.time() - start_time))"
      ]
    },
    {
      "cell_type": "code",
      "execution_count": null,
      "metadata": {
        "tags": []
      },
      "outputs": [],
      "source": [
        "import matplotlib.pyplot as plt\n",
        "import random\n",
        "import time\n",
        "p = [10000, 20000, 30000, 40000, 50000, 60000, 70000, 80000, 90000, 100000]\n",
        "t = []\n",
        "for i in p:\n",
        "    randomlist = random.sample(range(1, i),i-1)\n",
        "    start_time = time.time()\n",
        "    mergeSort(randomlist)\n",
        "    end_time = time.time() - start_time\n",
        "    t.append(end_time)\n",
        "plt.plot(p,t,'ro')\n",
        "plt.show()"
      ]
    },
    {
      "cell_type": "code",
      "execution_count": null,
      "metadata": {
        "tags": []
      },
      "outputs": [],
      "source": [
        "import numpy as np \n",
        "matrix = np.array(t) \n",
        "t_tr=matrix.reshape(matrix.size,1)\n",
        "print(t_tr) "
      ]
    }
  ],
  "metadata": {
    "colab": {
      "name": "Insertion-Sort.ipynb",
      "provenance": [],
      "toc_visible": true,
      "include_colab_link": true
    },
    "kernelspec": {
      "name": "python3",
      "display_name": "Python 3"
    }
  },
  "nbformat": 4,
  "nbformat_minor": 0
}