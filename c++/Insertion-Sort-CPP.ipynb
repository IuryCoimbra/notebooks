{
 "cells": [
  {
   "cell_type": "markdown",
   "metadata": {},
   "source": [
    "# GA-026: Algoritmos"
   ]
  },
  {
   "cell_type": "markdown",
   "metadata": {
    "tags": []
   },
   "source": [
    "## Ordenação por Inserção (Insertion Sort)"
   ]
  },
  {
   "cell_type": "code",
   "execution_count": null,
   "metadata": {},
   "outputs": [],
   "source": [
    "// C++ program for insertion sort  \n",
    "#include <bits/stdc++.h> \n",
    "using namespace std; "
   ]
  },
  {
   "cell_type": "code",
   "execution_count": null,
   "metadata": {
    "tags": []
   },
   "outputs": [],
   "source": [
    "\n",
    "/* Function to sort an array using insertion sort*/\n",
    "void insertionSort(int arr[], int n)  \n",
    "{  \n",
    "    int i, key, j;  \n",
    "    for (i = 1; i < n; i++) \n",
    "    {  \n",
    "        key = arr[i];  \n",
    "        j = i - 1;  \n",
    "  \n",
    "        /* Move elements of arr[0..i-1], that are  \n",
    "        greater than key, to one position ahead  \n",
    "        of their current position */\n",
    "        while (j >= 0 && arr[j] > key) \n",
    "        {  \n",
    "            arr[j + 1] = arr[j];  \n",
    "            j = j - 1;  \n",
    "        }  \n",
    "        arr[j + 1] = key;  \n",
    "    }  \n",
    "}  "
   ]
  },
  {
   "cell_type": "code",
   "execution_count": null,
   "metadata": {},
   "outputs": [],
   "source": [
    "// A utility function to print an array of size n  \n",
    "void printArray(int arr[], int n)  \n",
    "{  \n",
    "    int i;  \n",
    "    for (i = 0; i < n; i++)  \n",
    "        cout << arr[i] << \" \";  \n",
    "    cout << endl; \n",
    "}  "
   ]
  },
  {
   "cell_type": "code",
   "execution_count": null,
   "metadata": {
    "tags": []
   },
   "outputs": [],
   "source": [
    "    int arr[] = { 12, 11, 13, 5, 6 };  \n",
    "    int n = sizeof(arr) / sizeof(arr[0]);  \n",
    "  \n",
    "    insertionSort(arr, n);  \n",
    "    printArray(arr, n);  "
   ]
  }
 ],
 "metadata": {
  "kernelspec": {
   "display_name": "C++14",
   "language": "C++14",
   "name": "xcpp14"
  },
  "language_info": {
   "codemirror_mode": "text/x-c++src",
   "file_extension": ".cpp",
   "mimetype": "text/x-c++src",
   "name": "c++",
   "version": "3.7.7-final"
  }
 },
 "nbformat": 4,
 "nbformat_minor": 2
}