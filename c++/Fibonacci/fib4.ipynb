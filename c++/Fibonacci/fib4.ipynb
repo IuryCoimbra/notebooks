{
 "cells": [
  {
   "cell_type": "markdown",
   "metadata": {},
   "source": [
    "# GA-026: Algoritmos"
   ]
  },
  {
   "cell_type": "markdown",
   "metadata": {},
   "source": [
    "## Fibonacci - versão $\\Theta(1)$"
   ]
  },
  {
   "cell_type": "code",
   "execution_count": null,
   "metadata": {
    "tags": []
   },
   "outputs": [],
   "source": [
    "// C++ Program to find n'th fibonacci Number \n",
    "#include<iostream> \n",
    "#include<cmath> \n",
    "  \n",
    "int fib(int n) { \n",
    "  double phi = (1 + sqrt(5)) / 2; \n",
    "  return round(pow(phi, n) / sqrt(5)); \n",
    "} \n",
    "  \n",
    "// Driver Code \n",
    "int main () \n",
    "{ \n",
    "  int n = 9; \n",
    "  std::cout << fib(n) << std::endl; \n",
    "  return 0; \n",
    "} "
   ]
  },
  {
   "cell_type": "code",
   "execution_count": null,
   "metadata": {},
   "outputs": [],
   "source": []
  }
 ],
 "metadata": {
  "kernelspec": {
   "display_name": "C++14",
   "language": "python",
   "name": "xcpp14"
  },
  "language_info": {
   "codemirror_mode": {
    "name": "ipython",
    "version": 3
   },
   "file_extension": ".py",
   "mimetype": "text/x-python",
   "name": "python",
   "nbconvert_exporter": "python",
   "pygments_lexer": "ipython3",
   "version": "3.7.7-final"
  }
 },
 "nbformat": 4,
 "nbformat_minor": 2
}